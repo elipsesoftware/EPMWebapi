{
 "cells": [
  {
   "cell_type": "markdown",
   "metadata": {},
   "source": [
    "### Utilizando concorrência nas consultas ao EPM Server\n",
    "\n",
    "Vamos implementar o uso da biblioteca padrão do Python **concurrent.futures** para fazer consultas ao EPM Server, trazendo possíveis ganhos de peformance, principalmente quando se possui muitas variáveis a serem pesquisadas."
   ]
  },
  {
   "cell_type": "code",
   "execution_count": 66,
   "metadata": {},
   "outputs": [
    {
     "name": "stdout",
     "output_type": "stream",
     "text": [
      "EPM user:elipse\\kotres\n",
      "EPM password:········\n"
     ]
    }
   ],
   "source": [
    "import epmwebapi as epm\n",
    "import numpy as np\n",
    "import datetime\n",
    "\n",
    "##Método para não expor usuário e senha do EPM no código fonte\n",
    "import getpass\n",
    "user = input('EPM user:')\n",
    "password = getpass.getpass(\"EPM password:\")\n",
    "\n",
    "#crie o objeto de conexão informando os endereços do EPM Webserver(Authentication Port e WEB API Port), usuário e senha.\n",
    "connection = epm.EpmConnection('http://localhost:44333', 'http://localhost:44332', user, password)\n",
    "\n",
    "#periodo da consulta \n",
    "end_date = datetime.datetime.now()\n",
    "ini_date= end_date - datetime.timedelta(days=2)\n",
    "queryPeriod = epm.QueryPeriod(ini_date,end_date)\n",
    "\n",
    "#função para buscar dados\n",
    "def get_basicvariable_rawvalues(epmconnection, bvname, period):\n",
    "    \n",
    "    bv = connection.getDataObjects([bvname])\n",
    "    data = bv[bvname].historyReadRaw(period)\n",
    "    print(bvname+' lenght:{}'.format(str(len(data))))\n",
    "    return data\n",
    "\n",
    "#20 basic variables que serão pesquisadas\n",
    "bvname = ['ADM_Temperature','EPMDev_Temperature','E3Dev_Temperature', \n",
    "          'TI_Temperature', 'PowerDev_Temperature', 'TechnicalSupportTemperature',\n",
    "         'Auditorio_Temperature','Treinamento_Temperature','MobileDev_Temperature',\n",
    "         'MeetingRoom11th_Temperature', 'MeetingRoom10th_Temperature','MeetingRoom12th_Temperature',\n",
    "         'TIServidores_Temperature', 'Dev12th_Temperature', 'Dev11th_Temperature', \n",
    "         'ADM_TemperatureSP', 'MeetingRoom10th_TemperatureSP', 'EPMDev_TemperatureSP', \n",
    "         'PowerDev_TemperatureSP', 'MeetingRoom11th_TemperatureSP']\n",
    "\n",
    "\n"
   ]
  },
  {
   "cell_type": "markdown",
   "metadata": {},
   "source": [
    "### Executando a consulta sequencialmente em um laço \n",
    "Verificamos que o retorno ocorre na ordem da lista bvname."
   ]
  },
  {
   "cell_type": "code",
   "execution_count": 67,
   "metadata": {},
   "outputs": [
    {
     "name": "stdout",
     "output_type": "stream",
     "text": [
      "ADM_Temperature lenght:870\n",
      "EPMDev_Temperature lenght:811\n",
      "E3Dev_Temperature lenght:146\n",
      "TI_Temperature lenght:1491\n",
      "PowerDev_Temperature lenght:251\n",
      "TechnicalSupportTemperature lenght:111\n",
      "Auditorio_Temperature lenght:2290\n",
      "Treinamento_Temperature lenght:2498\n",
      "MobileDev_Temperature lenght:2816\n",
      "MeetingRoom11th_Temperature lenght:197\n",
      "MeetingRoom10th_Temperature lenght:341\n",
      "MeetingRoom12th_Temperature lenght:1637\n",
      "TIServidores_Temperature lenght:3128\n",
      "Dev12th_Temperature lenght:2241\n",
      "Dev11th_Temperature lenght:111\n",
      "ADM_TemperatureSP lenght:1\n",
      "MeetingRoom10th_TemperatureSP lenght:1\n",
      "EPMDev_TemperatureSP lenght:1\n",
      "PowerDev_TemperatureSP lenght:7\n",
      "MeetingRoom11th_TemperatureSP lenght:7\n",
      "Wall time: 6.57 s\n"
     ]
    }
   ],
   "source": [
    "%%time\n",
    "\n",
    "data = []\n",
    "\n",
    "for bv in bvname:    \n",
    "    data.append(get_basicvariable_rawvalues(connection, bv, queryPeriod))        \n",
    "    "
   ]
  },
  {
   "cell_type": "markdown",
   "metadata": {},
   "source": [
    "### Executando a consulta com concorrência\n",
    "\n",
    "* *Para esse caso houve redução de cerca de 57% no tempo total da consulta.*"
   ]
  },
  {
   "cell_type": "code",
   "execution_count": 68,
   "metadata": {},
   "outputs": [
    {
     "name": "stdout",
     "output_type": "stream",
     "text": [
      "ADM_Temperature lenght:870\n",
      "MeetingRoom11th_Temperature lenght:197\n",
      "EPMDev_Temperature lenght:811\n",
      "TechnicalSupportTemperature lenght:111\n",
      "E3Dev_Temperature lenght:146\n",
      "PowerDev_Temperature lenght:251\n",
      "TI_Temperature lenght:1491\n",
      "MeetingRoom10th_Temperature lenght:341Dev11th_Temperature lenght:111\n",
      "\n",
      "ADM_TemperatureSP lenght:1\n",
      "MeetingRoom10th_TemperatureSP lenght:1\n",
      "Auditorio_Temperature lenght:2290\n",
      "EPMDev_TemperatureSP lenght:1\n",
      "PowerDev_TemperatureSP lenght:7\n",
      "Treinamento_Temperature lenght:2498\n",
      "MeetingRoom11th_TemperatureSP lenght:7\n",
      "MobileDev_Temperature lenght:2816\n",
      "MeetingRoom12th_Temperature lenght:1637\n",
      "Dev12th_Temperature lenght:2241\n",
      "TIServidores_Temperature lenght:3128\n",
      "Wall time: 2.83 s\n"
     ]
    }
   ],
   "source": [
    "%%time\n",
    "\n",
    "import concurrent.futures\n",
    "\n",
    "#máximo de consultas paralelas\n",
    "MAX_WORKERS = 10\n",
    "\n",
    "data = []\n",
    "\n",
    "#executa no máximo 10 consultas paralelas e no mínimo a quantidade de variáveis a serem consultadas (se forem menos de 10).\n",
    "workers = min(MAX_WORKERS, len(bvname))\n",
    "\n",
    "#usamos a clausula with para ter certeza que as threads serão fechadas logo após o termino da sua execução\n",
    "with futures.ThreadPoolExecutor(workers) as executor:\n",
    "    future_to_get_bv = {executor.submit(get_basicvariable_rawvalues, connection, bv, queryPeriod): bv for bv in bvname}    \n",
    "    for future in concurrent.futures.as_completed(future_to_get_bv):\n",
    "        data.append(future.result())\n"
   ]
  }
 ],
 "metadata": {
  "kernelspec": {
   "display_name": "Python 3",
   "language": "python",
   "name": "python3"
  },
  "language_info": {
   "codemirror_mode": {
    "name": "ipython",
    "version": 3
   },
   "file_extension": ".py",
   "mimetype": "text/x-python",
   "name": "python",
   "nbconvert_exporter": "python",
   "pygments_lexer": "ipython3",
   "version": "3.6.7"
  }
 },
 "nbformat": 4,
 "nbformat_minor": 2
}
