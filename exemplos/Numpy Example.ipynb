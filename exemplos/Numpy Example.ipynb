{
 "cells": [
  {
   "cell_type": "markdown",
   "metadata": {},
   "source": [
    "### Biblioteca Numpy\n",
    "Numpy adiciona a linguagem Python facilidades para a manipulação e cálculos em arrays de grande dimensão. Ela adiciona o tipo de dado \"ndarray\", tipo que a epmwebapi utiliza para o retorno de séries temporais do EPM Server."
   ]
  },
  {
   "cell_type": "markdown",
   "metadata": {},
   "source": [
    "**Conexão ao EPM Server e busca de dados**"
   ]
  },
  {
   "cell_type": "code",
   "execution_count": 1,
   "metadata": {},
   "outputs": [
    {
     "name": "stdin",
     "output_type": "stream",
     "text": [
      "EPM user: sa\n",
      "EPM password: ········\n"
     ]
    }
   ],
   "source": [
    "import epmwebapi as epm\n",
    "import numpy as np\n",
    "import datetime\n",
    "\n",
    "# Método para não expor usuário e senha do EPM no código fonte\n",
    "import getpass\n",
    "user = input('EPM user:')\n",
    "password = getpass.getpass(\"EPM password:\")\n",
    "\n",
    "# Crie o objeto de conexão informando os endereços do EPM Webserver(Authentication Port e WEB API Port), usuário e senha.\n",
    "connection = epm.EpmConnection('https://localhost:44340', 'https://localhost:44339', user, password)\n",
    "\n",
    "bvname = 'MemoriaEpmServer'\n",
    "\n",
    "bv = connection.getDataObjects([bvname])\n",
    "\n",
    "end_date = datetime.datetime.now()\n",
    "ini_date= end_date - datetime.timedelta(minutes=10)\n",
    "queryPeriod = epm.QueryPeriod(ini_date,end_date)\n",
    "\n",
    "data = bv[bvname].historyReadRaw(queryPeriod)\n",
    "\n",
    "# Fechando a conexão\n",
    "connection.close()"
   ]
  },
  {
   "cell_type": "code",
   "execution_count": 2,
   "metadata": {},
   "outputs": [
    {
     "name": "stdout",
     "output_type": "stream",
     "text": [
      "[(125720., datetime.datetime(2025, 10, 9, 13, 15, 6, 425000, tzinfo=datetime.timezone.utc), 0)\n",
      " (122648., datetime.datetime(2025, 10, 9, 13, 15, 16, 451000, tzinfo=datetime.timezone.utc), 0)\n",
      " (123524., datetime.datetime(2025, 10, 9, 13, 20, 47, 512000, tzinfo=datetime.timezone.utc), 0)\n",
      " (125904., datetime.datetime(2025, 10, 9, 13, 20, 57, 540000, tzinfo=datetime.timezone.utc), 0)\n",
      " (126168., datetime.datetime(2025, 10, 9, 13, 22, 37, 845000, tzinfo=datetime.timezone.utc), 0)]\n"
     ]
    }
   ],
   "source": [
    "# As funções de leitura da epmwebapi retornam um ndarray (n dimentional array) com três campos: Timestamp, Value e Quality.\n",
    "print(data)"
   ]
  },
  {
   "cell_type": "markdown",
   "metadata": {},
   "source": [
    "**Índices**\n",
    "\n",
    "Os índices começam em zero. E podem ser usados indices negativos, começando em -1, para percorrer o ndarray de trás para frente."
   ]
  },
  {
   "cell_type": "code",
   "execution_count": 3,
   "metadata": {},
   "outputs": [
    {
     "data": {
      "text/plain": [
       "array([125720., 122648., 123524., 125904., 126168.], dtype='>f4')"
      ]
     },
     "execution_count": 3,
     "metadata": {},
     "output_type": "execute_result"
    }
   ],
   "source": [
    "# Para acessar os campos use colchetes[]:\n",
    "data['Value']"
   ]
  },
  {
   "cell_type": "code",
   "execution_count": 4,
   "metadata": {},
   "outputs": [
    {
     "name": "stdout",
     "output_type": "stream",
     "text": [
      "125720.0\n",
      "123524.0\n",
      "126168.0\n",
      "125904.0\n"
     ]
    }
   ],
   "source": [
    "# Acessando o primeiro valor do ndarray \n",
    "print(data['Value'][0])\n",
    "\n",
    "# Acessando o terceiro valor\n",
    "print(data['Value'][2])\n",
    "\n",
    "# Acessando o último valor do ndarray \n",
    "print(data['Value'][-1])\n",
    "\n",
    "# Acessando o penúltimo valor do ndarray \n",
    "print(data['Value'][-2])"
   ]
  },
  {
   "cell_type": "markdown",
   "metadata": {},
   "source": [
    " **Fatiamentos**\n",
    " \n",
    " Fatiar é a forma de escolher valores dentro do ndarray. Usamos a sintaxe **ndarray[start : stop : step]**"
   ]
  },
  {
   "cell_type": "code",
   "execution_count": 5,
   "metadata": {},
   "outputs": [
    {
     "name": "stdout",
     "output_type": "stream",
     "text": [
      "[125720. 122648. 123524. 125904. 126168.]\n",
      "[125720. 122648.]\n",
      "[123524. 125904.]\n",
      "[122648. 125904.]\n"
     ]
    }
   ],
   "source": [
    "# Imprimindo novamente o array para termos a referência de valores\n",
    "print(data['Value'])\n",
    "\n",
    "# Acessando os dois primeiros elementos\n",
    "print(data['Value'][0:2])\n",
    "\n",
    "# Acessando o terceiro e quarto elemento\n",
    "print(data['Value'][2:4])\n",
    "\n",
    "# Acessando os elementos de índice impar\n",
    "print(data['Value'][1::2])"
   ]
  },
  {
   "cell_type": "markdown",
   "metadata": {},
   "source": [
    "**Cálculos**\n",
    "\n",
    "O Numpy possui diversos métodos que retornam valores cálculados do array."
   ]
  },
  {
   "cell_type": "code",
   "execution_count": 6,
   "metadata": {},
   "outputs": [
    {
     "name": "stdout",
     "output_type": "stream",
     "text": [
      "Mean 124792.8\n",
      "Median 125720.0\n",
      "Standard Deviation 1427.9819\n",
      "Variance 2039132.2\n"
     ]
    }
   ],
   "source": [
    "# Using NumPy's built-in functions to Find Mean, Median, SD and Variance\n",
    "mean = np.mean(data['Value'])\n",
    "median = np.median(data['Value'])\n",
    "sd = np.std(data['Value'])\n",
    "variance = np.var(data['Value'])\n",
    "\n",
    "# Printing the values\n",
    "print(\"Mean\", mean) \n",
    "print(\"Median\", median) \n",
    "print(\"Standard Deviation\", sd) \n",
    "print(\"Variance\", variance) "
   ]
  },
  {
   "cell_type": "markdown",
   "metadata": {},
   "source": [
    "### Exemplos práticos\n",
    "\n",
    "**Remoção de outliers**\n",
    "\n",
    "Utilizamos a função **percentile** que retorna os quartis, para usar o método descrito aqui: https://www.purplemath.com/modules/boxwhisk3.htm"
   ]
  },
  {
   "cell_type": "code",
   "execution_count": 7,
   "metadata": {},
   "outputs": [
    {
     "name": "stdout",
     "output_type": "stream",
     "text": [
      "[25, 26, 24, 23, 24, 25, 28, 27]\n"
     ]
    }
   ],
   "source": [
    "temperaturas = [ 25, 26, 225, 24, 23, 24, 25, 325, 28, 27]\n",
    "\n",
    "def removeoutlier(values):\n",
    "    fator = 1.5\n",
    "    q3, q1 = np.percentile(values, [75, 25])\n",
    "\n",
    "    iqr = q3 - q1\n",
    "\n",
    "    lowpass = q1 - (iqr * fator)\n",
    "\n",
    "    highpass = q3 + (iqr * fator)\n",
    "    \n",
    "    return [v for v in values if v > lowpass and v < highpass]\n",
    "\n",
    "data = removeoutlier(temperaturas)\n",
    "print(data)"
   ]
  },
  {
   "cell_type": "markdown",
   "metadata": {},
   "source": [
    "**Para mais informações acesse a documentação da biblioteca**\n",
    "\n",
    "https://docs.scipy.org/doc/numpy/reference/routines.html\n"
   ]
  }
 ],
 "metadata": {
  "kernelspec": {
   "display_name": "Python 3 (ipykernel)",
   "language": "python",
   "name": "python3"
  },
  "language_info": {
   "codemirror_mode": {
    "name": "ipython",
    "version": 3
   },
   "file_extension": ".py",
   "mimetype": "text/x-python",
   "name": "python",
   "nbconvert_exporter": "python",
   "pygments_lexer": "ipython3",
   "version": "3.11.9"
  }
 },
 "nbformat": 4,
 "nbformat_minor": 4
}
