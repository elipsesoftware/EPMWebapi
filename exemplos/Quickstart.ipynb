{
 "cells": [
  {
   "cell_type": "markdown",
   "metadata": {},
   "source": [
    "### Quickstart - Dicas básicas para entendimento e início de desenvolvimento"
   ]
  },
  {
   "cell_type": "markdown",
   "metadata": {},
   "source": [
    "**Importação das bibliotecas que serão utilizadas**"
   ]
  },
  {
   "cell_type": "code",
   "execution_count": 9,
   "metadata": {},
   "outputs": [],
   "source": [
    "import epmwebapi as epm # biblioteca para interação com o EPM\n",
    "import datetime\n",
    "import pytz\n",
    "import getpass\n",
    "import numpy as np"
   ]
  },
  {
   "cell_type": "markdown",
   "metadata": {},
   "source": [
    "**Conectando ao EPM Web Server**"
   ]
  },
  {
   "cell_type": "code",
   "execution_count": 11,
   "metadata": {},
   "outputs": [
    {
     "name": "stdin",
     "output_type": "stream",
     "text": [
      "EPM user:  sa\n",
      "EPM password:  ········\n"
     ]
    }
   ],
   "source": [
    "# Método para não expor usuário e senha do EPM no código fonte\n",
    "user = input('EPM user: ')\n",
    "password = getpass.getpass(\"EPM password: \")\n",
    "\n",
    "# Crie o objeto de conexão informando os endereços do EPM Web Server (Authentication Port e Web API Port), usuário e senha.\n",
    "connection = epm.EpmConnection('https://localhost:44340', 'https://localhost:44339', user, password)"
   ]
  },
  {
   "cell_type": "markdown",
   "metadata": {},
   "source": [
    "**Definindo a BasicVariable utilizada nos exemplos a seguir**"
   ]
  },
  {
   "cell_type": "code",
   "execution_count": 17,
   "metadata": {},
   "outputs": [],
   "source": [
    "# Substitua o nome a variável pela sua\n",
    "bvname = 'MemoriaEpmServer'\n",
    "bv = connection.getDataObjects([bvname])"
   ]
  },
  {
   "cell_type": "markdown",
   "metadata": {},
   "source": [
    "**Definindo o período de consulta a ser utilizado nos exemplos a seguir (com fuso-horário)**"
   ]
  },
  {
   "cell_type": "code",
   "execution_count": 18,
   "metadata": {},
   "outputs": [],
   "source": [
    "# Definindo fuso-horário a ser utilizado\n",
    "tz_sp = pytz.timezone('America/Sao_Paulo')\n",
    "\n",
    "# Definindo intervalo de consulta com base no fuso-horário\n",
    "end_date = datetime.datetime.now(tz_sp)\n",
    "ini_date= end_date - datetime.timedelta(hours=1)\n",
    "queryPeriod = epm.QueryPeriod(ini_date,end_date)"
   ]
  },
  {
   "cell_type": "markdown",
   "metadata": {},
   "source": [
    "**Leitura de dados históricos brutos (Raw) a BasicVariable informada**"
   ]
  },
  {
   "cell_type": "code",
   "execution_count": 19,
   "metadata": {},
   "outputs": [
    {
     "name": "stdout",
     "output_type": "stream",
     "text": [
      "[(104444., datetime.datetime(2025, 10, 8, 16, 28, 48, 462000, tzinfo=datetime.timezone.utc), 0)\n",
      " (102292., datetime.datetime(2025, 10, 8, 16, 29, 8, 518000, tzinfo=datetime.timezone.utc), 0)\n",
      " (103332., datetime.datetime(2025, 10, 8, 16, 29, 38, 623000, tzinfo=datetime.timezone.utc), 0)\n",
      " (103792., datetime.datetime(2025, 10, 8, 16, 30, 8, 702000, tzinfo=datetime.timezone.utc), 0)\n",
      " (101992., datetime.datetime(2025, 10, 8, 16, 30, 18, 748000, tzinfo=datetime.timezone.utc), 0)\n",
      " (103220., datetime.datetime(2025, 10, 8, 16, 31, 8, 912000, tzinfo=datetime.timezone.utc), 0)\n",
      " (107328., datetime.datetime(2025, 10, 8, 16, 31, 18, 953000, tzinfo=datetime.timezone.utc), 0)\n",
      " (109924., datetime.datetime(2025, 10, 8, 16, 31, 28, 985000, tzinfo=datetime.timezone.utc), 0)\n",
      " (107848., datetime.datetime(2025, 10, 8, 16, 31, 39, 10000, tzinfo=datetime.timezone.utc), 0)\n",
      " (110464., datetime.datetime(2025, 10, 8, 16, 38, 10, 205000, tzinfo=datetime.timezone.utc), 0)\n",
      " (108640., datetime.datetime(2025, 10, 8, 16, 38, 20, 227000, tzinfo=datetime.timezone.utc), 0)\n",
      " (108792., datetime.datetime(2025, 10, 8, 16, 39, 40, 457000, tzinfo=datetime.timezone.utc), 0)\n",
      " (111860., datetime.datetime(2025, 10, 8, 16, 39, 50, 494000, tzinfo=datetime.timezone.utc), 0)\n",
      " (112076., datetime.datetime(2025, 10, 8, 16, 43, 41, 227000, tzinfo=datetime.timezone.utc), 0)\n",
      " (114160., datetime.datetime(2025, 10, 8, 16, 43, 51, 261000, tzinfo=datetime.timezone.utc), 0)\n",
      " (114232., datetime.datetime(2025, 10, 8, 16, 44, 1, 299000, tzinfo=datetime.timezone.utc), 0)\n",
      " (112112., datetime.datetime(2025, 10, 8, 16, 44, 11, 308000, tzinfo=datetime.timezone.utc), 0)\n",
      " (112056., datetime.datetime(2025, 10, 8, 16, 44, 41, 430000, tzinfo=datetime.timezone.utc), 0)\n",
      " (118676., datetime.datetime(2025, 10, 8, 16, 44, 51, 474000, tzinfo=datetime.timezone.utc), 0)\n",
      " (116672., datetime.datetime(2025, 10, 8, 16, 45, 1, 504000, tzinfo=datetime.timezone.utc), 0)\n",
      " (116684., datetime.datetime(2025, 10, 8, 16, 46, 1, 702000, tzinfo=datetime.timezone.utc), 0)\n",
      " (111532., datetime.datetime(2025, 10, 8, 16, 46, 11, 744000, tzinfo=datetime.timezone.utc), 0)\n",
      " (111544., datetime.datetime(2025, 10, 8, 16, 48, 12, 113000, tzinfo=datetime.timezone.utc), 0)\n",
      " (110404., datetime.datetime(2025, 10, 8, 16, 48, 22, 142000, tzinfo=datetime.timezone.utc), 0)\n",
      " (111584., datetime.datetime(2025, 10, 8, 16, 52, 22, 867000, tzinfo=datetime.timezone.utc), 0)\n",
      " (112948., datetime.datetime(2025, 10, 8, 16, 54, 43, 364000, tzinfo=datetime.timezone.utc), 0)\n",
      " (113876., datetime.datetime(2025, 10, 8, 16, 55, 3, 412000, tzinfo=datetime.timezone.utc), 0)\n",
      " (113076., datetime.datetime(2025, 10, 8, 16, 59, 24, 274000, tzinfo=datetime.timezone.utc), 0)\n",
      " (114008., datetime.datetime(2025, 10, 8, 17, 1, 24, 643000, tzinfo=datetime.timezone.utc), 0)\n",
      " (114800., datetime.datetime(2025, 10, 8, 17, 1, 54, 719000, tzinfo=datetime.timezone.utc), 0)\n",
      " (117076., datetime.datetime(2025, 10, 8, 17, 2, 4, 745000, tzinfo=datetime.timezone.utc), 0)\n",
      " (117036., datetime.datetime(2025, 10, 8, 17, 2, 14, 785000, tzinfo=datetime.timezone.utc), 0)\n",
      " (114892., datetime.datetime(2025, 10, 8, 17, 2, 24, 821000, tzinfo=datetime.timezone.utc), 0)\n",
      " (114904., datetime.datetime(2025, 10, 8, 17, 3, 4, 960000, tzinfo=datetime.timezone.utc), 0)\n",
      " (121140., datetime.datetime(2025, 10, 8, 17, 3, 14, 995000, tzinfo=datetime.timezone.utc), 0)\n",
      " (119036., datetime.datetime(2025, 10, 8, 17, 3, 25, 29000, tzinfo=datetime.timezone.utc), 0)\n",
      " (119044., datetime.datetime(2025, 10, 8, 17, 3, 45, 72000, tzinfo=datetime.timezone.utc), 0)\n",
      " (121344., datetime.datetime(2025, 10, 8, 17, 3, 55, 115000, tzinfo=datetime.timezone.utc), 0)\n",
      " (121300., datetime.datetime(2025, 10, 8, 17, 4, 5, 145000, tzinfo=datetime.timezone.utc), 0)\n",
      " (119188., datetime.datetime(2025, 10, 8, 17, 4, 15, 168000, tzinfo=datetime.timezone.utc), 0)\n",
      " (118264., datetime.datetime(2025, 10, 8, 17, 4, 45, 268000, tzinfo=datetime.timezone.utc), 0)\n",
      " (115240., datetime.datetime(2025, 10, 8, 17, 4, 55, 283000, tzinfo=datetime.timezone.utc), 0)\n",
      " (115268., datetime.datetime(2025, 10, 8, 17, 5, 5, 300000, tzinfo=datetime.timezone.utc), 0)\n",
      " (116648., datetime.datetime(2025, 10, 8, 17, 5, 15, 324000, tzinfo=datetime.timezone.utc), 0)\n",
      " (115640., datetime.datetime(2025, 10, 8, 17, 5, 35, 377000, tzinfo=datetime.timezone.utc), 0)\n",
      " (116152., datetime.datetime(2025, 10, 8, 17, 6, 35, 587000, tzinfo=datetime.timezone.utc), 0)\n",
      " (117444., datetime.datetime(2025, 10, 8, 17, 6, 45, 627000, tzinfo=datetime.timezone.utc), 0)\n",
      " (118428., datetime.datetime(2025, 10, 8, 17, 7, 5, 695000, tzinfo=datetime.timezone.utc), 0)\n",
      " (113012., datetime.datetime(2025, 10, 8, 17, 7, 15, 725000, tzinfo=datetime.timezone.utc), 0)\n",
      " (114256., datetime.datetime(2025, 10, 8, 17, 7, 25, 756000, tzinfo=datetime.timezone.utc), 0)\n",
      " (114272., datetime.datetime(2025, 10, 8, 17, 8, 5, 851000, tzinfo=datetime.timezone.utc), 0)\n",
      " (115432., datetime.datetime(2025, 10, 8, 17, 8, 15, 888000, tzinfo=datetime.timezone.utc), 0)\n",
      " (114476., datetime.datetime(2025, 10, 8, 17, 9, 46, 232000, tzinfo=datetime.timezone.utc), 0)\n",
      " (117592., datetime.datetime(2025, 10, 8, 17, 9, 56, 271000, tzinfo=datetime.timezone.utc), 0)\n",
      " (111264., datetime.datetime(2025, 10, 8, 17, 10, 6, 291000, tzinfo=datetime.timezone.utc), 0)\n",
      " (112104., datetime.datetime(2025, 10, 8, 17, 12, 16, 736000, tzinfo=datetime.timezone.utc), 0)\n",
      " (112388., datetime.datetime(2025, 10, 8, 17, 13, 16, 923000, tzinfo=datetime.timezone.utc), 0)\n",
      " (108852., datetime.datetime(2025, 10, 8, 17, 13, 26, 960000, tzinfo=datetime.timezone.utc), 0)\n",
      " (110240., datetime.datetime(2025, 10, 8, 17, 17, 7, 681000, tzinfo=datetime.timezone.utc), 0)\n",
      " (107808., datetime.datetime(2025, 10, 8, 17, 17, 17, 701000, tzinfo=datetime.timezone.utc), 0)\n",
      " (108948., datetime.datetime(2025, 10, 8, 17, 18, 7, 897000, tzinfo=datetime.timezone.utc), 0)\n",
      " (108116., datetime.datetime(2025, 10, 8, 17, 18, 17, 930000, tzinfo=datetime.timezone.utc), 0)\n",
      " (105592., datetime.datetime(2025, 10, 8, 17, 18, 27, 971000, tzinfo=datetime.timezone.utc), 0)\n",
      " (106592., datetime.datetime(2025, 10, 8, 17, 20, 48, 488000, tzinfo=datetime.timezone.utc), 0)\n",
      " (107248., datetime.datetime(2025, 10, 8, 17, 24, 39, 268000, tzinfo=datetime.timezone.utc), 0)\n",
      " (108476., datetime.datetime(2025, 10, 8, 17, 24, 49, 301000, tzinfo=datetime.timezone.utc), 0)\n",
      " (109232., datetime.datetime(2025, 10, 8, 17, 25, 19, 431000, tzinfo=datetime.timezone.utc), 0)\n",
      " (115080., datetime.datetime(2025, 10, 8, 17, 25, 29, 473000, tzinfo=datetime.timezone.utc), 0)\n",
      " (116316., datetime.datetime(2025, 10, 8, 17, 25, 59, 583000, tzinfo=datetime.timezone.utc), 0)]\n"
     ]
    }
   ],
   "source": [
    "data = bv[bvname].historyReadRaw(queryPeriod)\n",
    "\n",
    "print(data)"
   ]
  },
  {
   "cell_type": "markdown",
   "metadata": {},
   "source": [
    "**Leitura usando agregação de dados (Baseados na norma OPC-UA) da BasicVariable informada**  \n",
    "Para informações sobre os tipos de agregações, consulte o Apêndice A do Guia do Usuário: https://github.com/elipsesoftware/epmprocessor/blob/master/guiadousuario/Agregacoes.md"
   ]
  },
  {
   "cell_type": "code",
   "execution_count": 20,
   "metadata": {},
   "outputs": [
    {
     "name": "stdout",
     "output_type": "stream",
     "text": [
      "[(104654.21 , datetime.datetime(2025, 10, 8, 16, 26, 36, 616657, tzinfo=datetime.timezone.utc), 1026)\n",
      " (109838.16 , datetime.datetime(2025, 10, 8, 16, 36, 36, 616657, tzinfo=datetime.timezone.utc), 1026)\n",
      " (111534.48 , datetime.datetime(2025, 10, 8, 16, 46, 36, 616657, tzinfo=datetime.timezone.utc), 1026)\n",
      " (113590.164, datetime.datetime(2025, 10, 8, 16, 56, 36, 616657, tzinfo=datetime.timezone.utc), 1026)\n",
      " (116284.5  , datetime.datetime(2025, 10, 8, 17, 6, 36, 616657, tzinfo=datetime.timezone.utc), 1026)\n",
      " (110044.66 , datetime.datetime(2025, 10, 8, 17, 16, 36, 616657, tzinfo=datetime.timezone.utc), 1026)]\n"
     ]
    }
   ],
   "source": [
    "# Definindo o intervalo de processamento/amostragem (sample interval) \n",
    "processInterval = datetime.timedelta(minutes=10)\n",
    "aggDetails = epm.AggregateDetails(processInterval, epm.AggregateType.Interpolative)\n",
    "\n",
    "data = bv[bvname].historyReadAggregate(aggDetails, queryPeriod)\n",
    "\n",
    "print(data)"
   ]
  },
  {
   "cell_type": "markdown",
   "metadata": {},
   "source": [
    "**Escrita de dados históricos na BasicVariable informada**"
   ]
  },
  {
   "cell_type": "code",
   "execution_count": 21,
   "metadata": {},
   "outputs": [],
   "source": [
    "# Valores de teste para serem escritos\n",
    "newvalues = [50,60,30,40,10]\n",
    "\n",
    "timebase = datetime.datetime.now(tz_sp)\n",
    "newdates = np.array([timebase + datetime.timedelta(hours=i) for i in range(5)])\n",
    "\n",
    "# Criando objeto ndarray no formato suportado pelo EPM.\n",
    "desc = np.dtype([('Value', '>f8'), ('Timestamp', 'object'), ('Quality', 'object')])\n",
    "datatemp = np.empty(len(newvalues), dtype=desc)\n",
    "\n",
    "# Looping para preencher os dados.\n",
    "i=0\n",
    "while i < len(newvalues):\n",
    "    datatemp['Value'][i] = newvalues[i]\n",
    "    datatemp['Timestamp'][i] = newdates[i]\n",
    "    datatemp['Quality'][i] = 0\n",
    "    i = i+1\n",
    "\n",
    "# Gravação de dados no EPM.\n",
    "bv[bvname].historyUpdate(datatemp)"
   ]
  },
  {
   "cell_type": "markdown",
   "metadata": {},
   "source": [
    "**Escrita de dados de tempo real em uma BasicVariable**"
   ]
  },
  {
   "cell_type": "code",
   "execution_count": 26,
   "metadata": {},
   "outputs": [],
   "source": [
    "date = datetime.datetime.now(tz_sp)\n",
    "value = 100\n",
    "quality = 0 # O valor 0 (zero) equivale à qualidade boa (Good) em OPC-UA.\n",
    "\n",
    "bv[bvname].write(value, date, quality)"
   ]
  },
  {
   "cell_type": "markdown",
   "metadata": {},
   "source": [
    "**Leitura do valor de tempo real da variável**"
   ]
  },
  {
   "cell_type": "code",
   "execution_count": 29,
   "metadata": {},
   "outputs": [
    {
     "name": "stdout",
     "output_type": "stream",
     "text": [
      "100\n",
      "2025-10-08 18:03:22.140723+00:00\n"
     ]
    }
   ],
   "source": [
    "data = bv[bvname].read()\n",
    "\n",
    "print(data.value)\n",
    "print(data.timestamp)"
   ]
  },
  {
   "cell_type": "markdown",
   "metadata": {
    "editable": true,
    "slideshow": {
     "slide_type": ""
    },
    "tags": []
   },
   "source": [
    "**Escrevendo Anotações**\n",
    "\n",
    "A estrutura de dados do EPM permite que se escrevam anotações nas variáveis. A anotação consiste em mensagem, estampa de tempo e usuário. Nesse exemplo vamos escrever uma anotação no valor máximo da variável no período consultado."
   ]
  },
  {
   "cell_type": "code",
   "execution_count": 35,
   "metadata": {},
   "outputs": [
    {
     "name": "stdout",
     "output_type": "stream",
     "text": [
      "[[37]]\n",
      "[datetime.datetime(2025, 10, 8, 17, 3, 55, 115000, tzinfo=datetime.timezone.utc)]\n"
     ]
    }
   ],
   "source": [
    "data = bv[bvname].historyReadRaw(queryPeriod)\n",
    "\n",
    "max_value = data['Value'].max()\n",
    "\n",
    "max_index = np.argwhere(data['Value'] == max_value)\n",
    "\n",
    "print(max_index)\n",
    "\n",
    "print(data['Timestamp'][max_index][0])\n",
    "\n",
    "# Escrevendo anotação\n",
    "message = 'valor maximo encontrado no periodo'\n",
    "timestamp = data['Timestamp'][max_index][0][0]\n",
    "bv[bvname].writeAnnotation(timestamp, message)"
   ]
  },
  {
   "cell_type": "markdown",
   "metadata": {},
   "source": [
    "**Consultando anotações**"
   ]
  },
  {
   "cell_type": "code",
   "execution_count": 36,
   "metadata": {},
   "outputs": [
    {
     "name": "stdout",
     "output_type": "stream",
     "text": [
      "[(datetime.datetime(2025, 10, 8, 14, 3, 55, 115000, tzinfo=tzoffset(None, -10800)), 'sa', 'valor maximo encontrado no periodo')]\n"
     ]
    }
   ],
   "source": [
    "annotations = bv[bvname].readAnnotations(ini_date,end_date)\n",
    "print(annotations)"
   ]
  },
  {
   "cell_type": "markdown",
   "metadata": {},
   "source": [
    "**Fechando a conexão**\n",
    "\n",
    "É importante fechar a conexão para liberá-la para outros possíveis clients."
   ]
  },
  {
   "cell_type": "code",
   "execution_count": 37,
   "metadata": {},
   "outputs": [],
   "source": [
    "connection.close()"
   ]
  }
 ],
 "metadata": {
  "kernelspec": {
   "display_name": "Python 3 (ipykernel)",
   "language": "python",
   "name": "python3"
  },
  "language_info": {
   "codemirror_mode": {
    "name": "ipython",
    "version": 3
   },
   "file_extension": ".py",
   "mimetype": "text/x-python",
   "name": "python",
   "nbconvert_exporter": "python",
   "pygments_lexer": "ipython3",
   "version": "3.11.9"
  }
 },
 "nbformat": 4,
 "nbformat_minor": 4
}
