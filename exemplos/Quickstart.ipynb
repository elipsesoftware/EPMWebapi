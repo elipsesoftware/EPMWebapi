{
 "cells": [
  {
   "cell_type": "markdown",
   "metadata": {},
   "source": [
    "### Quickstart - Dicas básicas para entendimento e início de desenvolvimento"
   ]
  },
  {
   "cell_type": "markdown",
   "metadata": {},
   "source": [
    "**Importação das bibliotecas que serão utilizadas**"
   ]
  },
  {
   "cell_type": "code",
   "execution_count": 1,
   "metadata": {},
   "outputs": [],
   "source": [
    "import epmwebapi as epm # biblioteca para interação com o EPM\n",
    "import datetime\n",
    "import pytz\n",
    "import getpass\n",
    "import numpy as np"
   ]
  },
  {
   "cell_type": "markdown",
   "metadata": {},
   "source": [
    "**Conectando ao EPM Web Server**"
   ]
  },
  {
   "cell_type": "code",
   "execution_count": 2,
   "metadata": {},
   "outputs": [
    {
     "name": "stdin",
     "output_type": "stream",
     "text": [
      "EPM user:  sa\n",
      "EPM password:  ········\n"
     ]
    }
   ],
   "source": [
    "# Método para não expor usuário e senha do EPM no código fonte\n",
    "user = input('EPM user: ')\n",
    "password = getpass.getpass(\"EPM password: \")\n",
    "\n",
    "# Crie o objeto de conexão informando os endereços do EPM Web Server (Authentication Port e Web API Port), usuário e senha.\n",
    "connection = epm.EpmConnection('https://localhost:44340', 'https://localhost:44339', user, password)"
   ]
  },
  {
   "cell_type": "markdown",
   "metadata": {},
   "source": [
    "**Definindo a BasicVariable utilizada nos exemplos a seguir**"
   ]
  },
  {
   "cell_type": "code",
   "execution_count": 3,
   "metadata": {},
   "outputs": [],
   "source": [
    "# Substitua o nome a variável pela sua\n",
    "import warnings\n",
    " \n",
    "# Ignorar todos os warnings\n",
    "warnings.filterwarnings(\"ignore\")\n",
    "bvname = 'MemoriaEpmServer'\n",
    "bv = connection.getDataObjects([bvname])"
   ]
  },
  {
   "cell_type": "markdown",
   "metadata": {},
   "source": [
    "**Definindo o período de consulta a ser utilizado nos exemplos a seguir (com fuso-horário)**"
   ]
  },
  {
   "cell_type": "code",
   "execution_count": 4,
   "metadata": {},
   "outputs": [],
   "source": [
    "# Definindo fuso-horário a ser utilizado\n",
    "tz_sp = pytz.timezone('America/Sao_Paulo')\n",
    "\n",
    "# Definindo intervalo de consulta com base no fuso-horário\n",
    "end_date = datetime.datetime.now(tz_sp)\n",
    "ini_date= end_date - datetime.timedelta(hours=1)\n",
    "queryPeriod = epm.QueryPeriod(ini_date,end_date)"
   ]
  },
  {
   "cell_type": "markdown",
   "metadata": {},
   "source": [
    "**Leitura de dados históricos brutos (Raw) a BasicVariable informada**"
   ]
  },
  {
   "cell_type": "code",
   "execution_count": 5,
   "metadata": {},
   "outputs": [
    {
     "name": "stdout",
     "output_type": "stream",
     "text": [
      "[(6.00000e+01, datetime.datetime(2025, 10, 8, 18, 26, 45, 428000, tzinfo=datetime.timezone.utc), 0)\n",
      " (5.00000e+01, datetime.datetime(2025, 10, 8, 19, 14, 2, 583000, tzinfo=datetime.timezone.utc), 0)\n",
      " (1.31152e+05, datetime.datetime(2025, 10, 8, 19, 15, 49, 844000, tzinfo=datetime.timezone.utc), 0)\n",
      " (1.31712e+05, datetime.datetime(2025, 10, 8, 19, 16, 9, 956000, tzinfo=datetime.timezone.utc), 0)\n",
      " (1.30024e+05, datetime.datetime(2025, 10, 8, 19, 16, 19, 995000, tzinfo=datetime.timezone.utc), 0)\n",
      " (1.30140e+05, datetime.datetime(2025, 10, 8, 19, 17, 50, 329000, tzinfo=datetime.timezone.utc), 0)\n",
      " (1.24480e+05, datetime.datetime(2025, 10, 8, 19, 18, 0, 372000, tzinfo=datetime.timezone.utc), 0)\n",
      " (1.24744e+05, datetime.datetime(2025, 10, 8, 19, 18, 50, 570000, tzinfo=datetime.timezone.utc), 0)\n",
      " (1.23360e+05, datetime.datetime(2025, 10, 8, 19, 19, 0, 611000, tzinfo=datetime.timezone.utc), 0)\n",
      " (1.24200e+05, datetime.datetime(2025, 10, 8, 19, 21, 21, 142000, tzinfo=datetime.timezone.utc), 0)\n",
      " (1.24500e+05, datetime.datetime(2025, 10, 8, 19, 21, 51, 262000, tzinfo=datetime.timezone.utc), 0)\n",
      " (1.23032e+05, datetime.datetime(2025, 10, 8, 19, 22, 1, 305000, tzinfo=datetime.timezone.utc), 0)]\n"
     ]
    }
   ],
   "source": [
    "data = bv[bvname].historyReadRaw(queryPeriod)\n",
    "\n",
    "print(data)"
   ]
  },
  {
   "cell_type": "markdown",
   "metadata": {},
   "source": [
    "**Leitura usando agregação de dados (Baseados na norma OPC-UA) da BasicVariable informada**  \n",
    "Para informações sobre os tipos de agregações, consulte o Apêndice A do Guia do Usuário: https://github.com/elipsesoftware/epmprocessor/blob/master/guiadousuario/Agregacoes.md"
   ]
  },
  {
   "cell_type": "code",
   "execution_count": 6,
   "metadata": {},
   "outputs": [
    {
     "name": "stdout",
     "output_type": "stream",
     "text": [
      "[(20249.69    , datetime.datetime(2025, 10, 8, 18, 23, 4, 263467, tzinfo=datetime.timezone.utc), 1026)\n",
      " (   58.664734, datetime.datetime(2025, 10, 8, 18, 33, 4, 263467, tzinfo=datetime.timezone.utc), 1026)\n",
      " (   56.54994 , datetime.datetime(2025, 10, 8, 18, 43, 4, 263467, tzinfo=datetime.timezone.utc), 1026)\n",
      " (   54.435146, datetime.datetime(2025, 10, 8, 18, 53, 4, 263467, tzinfo=datetime.timezone.utc), 1026)\n",
      " (   52.32035 , datetime.datetime(2025, 10, 8, 19, 3, 4, 263467, tzinfo=datetime.timezone.utc), 1026)\n",
      " (   50.205555, datetime.datetime(2025, 10, 8, 19, 13, 4, 263467, tzinfo=datetime.timezone.utc), 1026)]\n"
     ]
    }
   ],
   "source": [
    "# Definindo o intervalo de processamento/amostragem (sample interval) \n",
    "processInterval = datetime.timedelta(minutes=10)\n",
    "aggDetails = epm.AggregateDetails(processInterval, epm.AggregateType.Interpolative)\n",
    "\n",
    "data = bv[bvname].historyReadAggregate(aggDetails, queryPeriod)\n",
    "\n",
    "print(data)"
   ]
  },
  {
   "cell_type": "markdown",
   "metadata": {},
   "source": [
    "**Escrita de dados históricos na BasicVariable informada**"
   ]
  },
  {
   "cell_type": "code",
   "execution_count": 7,
   "metadata": {},
   "outputs": [],
   "source": [
    "# Valores de teste para serem escritos\n",
    "newvalues = [50,60,30,40,10]\n",
    "\n",
    "timebase = datetime.datetime.now(tz_sp)\n",
    "newdates = np.array([timebase + datetime.timedelta(hours=i) for i in range(5)])\n",
    "\n",
    "# Criando objeto ndarray no formato suportado pelo EPM.\n",
    "desc = np.dtype([('Value', '>f8'), ('Timestamp', 'object'), ('Quality', 'object')])\n",
    "datatemp = np.empty(len(newvalues), dtype=desc)\n",
    "\n",
    "# Looping para preencher os dados.\n",
    "i=0\n",
    "while i < len(newvalues):\n",
    "    datatemp['Value'][i] = newvalues[i]\n",
    "    datatemp['Timestamp'][i] = newdates[i]\n",
    "    datatemp['Quality'][i] = 0\n",
    "    i = i+1\n",
    "\n",
    "# Gravação de dados no EPM.\n",
    "bv[bvname].historyUpdate(datatemp)"
   ]
  },
  {
   "cell_type": "markdown",
   "metadata": {},
   "source": [
    "**Escrita de dados de tempo real em uma BasicVariable**"
   ]
  },
  {
   "cell_type": "code",
   "execution_count": 8,
   "metadata": {},
   "outputs": [],
   "source": [
    "date = datetime.datetime.now(tz_sp)\n",
    "value = 100\n",
    "quality = 0 # O valor 0 (zero) equivale à qualidade boa (Good) em OPC-UA.\n",
    "\n",
    "bv[bvname].write(value, date, quality)"
   ]
  },
  {
   "cell_type": "markdown",
   "metadata": {},
   "source": [
    "**Leitura do valor de tempo real da variável**"
   ]
  },
  {
   "cell_type": "code",
   "execution_count": 9,
   "metadata": {},
   "outputs": [
    {
     "name": "stdout",
     "output_type": "stream",
     "text": [
      "100\n",
      "2025-10-08 19:23:15.807354+00:00\n"
     ]
    }
   ],
   "source": [
    "data = bv[bvname].read()\n",
    "\n",
    "print(data.value)\n",
    "print(data.timestamp)"
   ]
  },
  {
   "cell_type": "markdown",
   "metadata": {
    "editable": true,
    "slideshow": {
     "slide_type": ""
    },
    "tags": []
   },
   "source": [
    "**Escrevendo Anotações**\n",
    "\n",
    "A estrutura de dados do EPM permite que se escrevam anotações nas variáveis. A anotação consiste em mensagem, estampa de tempo e usuário. Nesse exemplo vamos escrever uma anotação no valor máximo da variável no período consultado."
   ]
  },
  {
   "cell_type": "code",
   "execution_count": 10,
   "metadata": {},
   "outputs": [
    {
     "name": "stdout",
     "output_type": "stream",
     "text": [
      "[[3]]\n",
      "[datetime.datetime(2025, 10, 8, 19, 16, 9, 956000, tzinfo=datetime.timezone.utc)]\n"
     ]
    }
   ],
   "source": [
    "data = bv[bvname].historyReadRaw(queryPeriod)\n",
    "\n",
    "max_value = data['Value'].max()\n",
    "\n",
    "max_index = np.argwhere(data['Value'] == max_value)\n",
    "\n",
    "print(max_index)\n",
    "\n",
    "print(data['Timestamp'][max_index][0])\n",
    "\n",
    "# Escrevendo anotação\n",
    "message = 'valor maximo encontrado no periodo'\n",
    "timestamp = data['Timestamp'][max_index][0][0]\n",
    "bv[bvname].writeAnnotation(timestamp, message)"
   ]
  },
  {
   "cell_type": "markdown",
   "metadata": {},
   "source": [
    "**Consultando anotações**"
   ]
  },
  {
   "cell_type": "code",
   "execution_count": 11,
   "metadata": {},
   "outputs": [
    {
     "name": "stdout",
     "output_type": "stream",
     "text": [
      "[(datetime.datetime(2025, 10, 8, 15, 26, 45, 428000, tzinfo=tzoffset(None, -10800)), 'sa', 'valor maximo encontrado no periodo'), (datetime.datetime(2025, 10, 8, 16, 16, 9, 956000, tzinfo=tzoffset(None, -10800)), 'sa', 'valor maximo encontrado no periodo')]\n"
     ]
    }
   ],
   "source": [
    "annotations = bv[bvname].readAnnotations(ini_date,end_date)\n",
    "print(annotations)"
   ]
  },
  {
   "cell_type": "markdown",
   "metadata": {},
   "source": [
    "**Fechando a conexão**\n",
    "\n",
    "É importante fechar a conexão para liberá-la para outros possíveis clients."
   ]
  },
  {
   "cell_type": "code",
   "execution_count": 12,
   "metadata": {},
   "outputs": [],
   "source": [
    "connection.close()"
   ]
  }
 ],
 "metadata": {
  "kernelspec": {
   "display_name": "Python 3 (ipykernel)",
   "language": "python",
   "name": "python3"
  },
  "language_info": {
   "codemirror_mode": {
    "name": "ipython",
    "version": 3
   },
   "file_extension": ".py",
   "mimetype": "text/x-python",
   "name": "python",
   "nbconvert_exporter": "python",
   "pygments_lexer": "ipython3",
   "version": "3.11.9"
  }
 },
 "nbformat": 4,
 "nbformat_minor": 4
}
