{
 "cells": [
  {
   "cell_type": "markdown",
   "metadata": {},
   "source": [
    "### Criação, edição e exclusão de Basic Variables\n",
    "A epmwebapi permite criar, ler, alterar ou excluir Basic Variables. Recomendamos cuidado ao realizar essas operações no sistema.\n"
   ]
  },
  {
   "cell_type": "code",
   "execution_count": 20,
   "metadata": {},
   "outputs": [
    {
     "name": "stdout",
     "output_type": "stream",
     "text": [
      "EPM user:sa\n",
      "EPM password:········\n"
     ]
    }
   ],
   "source": [
    "import epmwebapi as epm\n",
    "import numpy as np\n",
    "import datetime\n",
    "\n",
    "##Método para não expor usuário e senha do EPM no código fonte\n",
    "import getpass\n",
    "user = input('EPM user:')\n",
    "password = getpass.getpass(\"EPM password:\")\n",
    "\n",
    "#crie o objeto de conexão informando os endereços do EPM Webserver(Authentication Port e WEB API Port), usuário e senha.\n",
    "connection = epm.EpmConnection('http://dili:44333', 'http://dili:44332', user, password)"
   ]
  },
  {
   "cell_type": "markdown",
   "metadata": {},
   "source": [
    "**Criação de Basic Variable** \n",
    "\n",
    "Utilize o método ***createBasicVariable(name, description, tagType, realTimeEnabled, eu,\n",
    "                lowLimit, highLimit, scaleEnable, inputLowLimit, inputHighLimit, clamping,\n",
    "                domain, interface, ioTagAddress, processingEnabled, isRecording, isCompressing,\n",
    "                storeMillisecondsEnabled, storageSet, deadBandFilter, deadBandUnit)***\n",
    "                \n",
    "Os único campo obrigatório é ***name***. Os campos que não possuirem entrada, serão criados com seus valores *default*.\n",
    "\n",
    "Exemplo:"
   ]
  },
  {
   "cell_type": "code",
   "execution_count": 27,
   "metadata": {},
   "outputs": [],
   "source": [
    "newBasicVariable = connection.createBasicVariable(name='bvname', description='Variavel criada a partir da epmwebapi', tagType = 'Int', realTimeEnabled = True, eu = '°C',\n",
    "                lowLimit = 1, highLimit = 101, scaleEnable = True, inputLowLimit = 1, inputHighLimit = 1001, clamping = 'ClampToRange',\n",
    "                domain = 'Continuous', interface = None, ioTagAddress = None, processingEnabled = True, isRecording = True, isCompressing = True,\n",
    "                storeMillisecondsEnabled = False, storageSet = None, deadBandFilter = 2.2, deadBandUnit = 'DBPercentOfValue')"
   ]
  },
  {
   "cell_type": "markdown",
   "metadata": {},
   "source": [
    "**Updade**\n",
    "\n",
    "Para realizar alterações nas configurações das BasicVariables, basta alterar cada uma das propriedades que se deseja e após isso enviar a atualização para o servidor através do método save().\n",
    "\n",
    "Exemplo:"
   ]
  },
  {
   "cell_type": "code",
   "execution_count": 22,
   "metadata": {},
   "outputs": [],
   "source": [
    "bv01 =  connection.getBasicVariables(['bvname'])['bvname']\n",
    "bv01.lowLimit = 20 \n",
    "bv01.highlimit = 200\n",
    "bv01.storeMillisecondesEnabled = False\n",
    "bv01.save() # envia alterações para o EPM Server\n"
   ]
  },
  {
   "cell_type": "markdown",
   "metadata": {},
   "source": [
    "**Delete**\n",
    "\n",
    "* **Essa operação deve ser feita com cuidado. A exclusão da variável não pode ser desfeita. Recomendamos políticas de backup no sistema.**\n",
    "\n",
    "Basta utilizar o método delete() na BasicVariable ou o método deleteBasicVariable(listnames) na conexão.\n",
    "\n",
    "Exemplo:\n",
    "\n",
    "\n"
   ]
  },
  {
   "cell_type": "code",
   "execution_count": 28,
   "metadata": {},
   "outputs": [
    {
     "name": "stdout",
     "output_type": "stream",
     "text": [
      "BasicVariable deleted\n"
     ]
    }
   ],
   "source": [
    "# Delete direto no objeto instanciado \n",
    "if bv01.delete():\n",
    "    print('BasicVariable deleted')\n",
    "else:\n",
    "    print('Fail')\n",
    "    \n",
    "#Com lista gerada a partir de um filtro\n",
    "dofd = epmConn.filterDataObjects(doFilter)\n",
    "listNames = list(dofd.keys())\n",
    "epmConn.deleteBasicVariables(name=listNames)\n",
    "\n",
    "### Sem o filtro, apenas o nome da variável\n",
    "epmConn.deleteBasicVariables(name=['bvname'])"
   ]
  },
  {
   "cell_type": "code",
   "execution_count": 15,
   "metadata": {},
   "outputs": [],
   "source": [
    "#Importante fechar a conexão com o EPM Server.\n",
    "connection.close()"
   ]
  }
 ],
 "metadata": {
  "kernelspec": {
   "display_name": "Python 3",
   "language": "python",
   "name": "python3"
  },
  "language_info": {
   "codemirror_mode": {
    "name": "ipython",
    "version": 3
   },
   "file_extension": ".py",
   "mimetype": "text/x-python",
   "name": "python",
   "nbconvert_exporter": "python",
   "pygments_lexer": "ipython3",
   "version": "3.6.7"
  }
 },
 "nbformat": 4,
 "nbformat_minor": 2
}
