{
 "cells": [
  {
   "cell_type": "markdown",
   "metadata": {},
   "source": [
    "### Epmwebapi Quickstart "
   ]
  },
  {
   "cell_type": "markdown",
   "metadata": {},
   "source": [
    "**Connecting to EPM Webserver**"
   ]
  },
  {
   "cell_type": "code",
   "execution_count": 1,
   "metadata": {},
   "outputs": [
    {
     "name": "stdout",
     "output_type": "stream",
     "text": [
      "EPM user:sa\n",
      "EPM password:········\n"
     ]
    }
   ],
   "source": [
    "import epmwebapi as epm\n",
    "import numpy as np\n",
    "import datetime\n",
    "\n",
    "user = 'user'\n",
    "password = 'psw'\n",
    "\n",
    "#The line below use the EpmConnection method to create a connection with a EPM Server\n",
    "connection = epm.EpmConnection('http://machine_name:44333', 'http://machine_name:44332', user, password)\n"
   ]
  },
  {
   "cell_type": "markdown",
   "metadata": {},
   "source": [
    "**Reading raw data**"
   ]
  },
  {
   "cell_type": "code",
   "execution_count": 2,
   "metadata": {},
   "outputs": [
    {
     "name": "stdout",
     "output_type": "stream",
     "text": [
      "[]\n"
     ]
    }
   ],
   "source": [
    "#basic variable name\n",
    "bvname = 'ADM_Temperature'\n",
    "\n",
    "#method to get the basic variable\n",
    "bv = connection.getDataObjects([bvname])\n",
    "\n",
    "#define query period\n",
    "end_date = datetime.datetime.now()\n",
    "ini_date= end_date - datetime.timedelta(minutes=10)\n",
    "queryPeriod = epm.QueryPeriod(ini_date,end_date)\n",
    "\n",
    "#make read\n",
    "data = bv[bvname].historyReadRaw(queryPeriod)\n",
    "\n",
    "#show results\n",
    "print(data)\n"
   ]
  },
  {
   "cell_type": "markdown",
   "metadata": {},
   "source": [
    "**Reading aggregated data(OPCUA based)**"
   ]
  },
  {
   "cell_type": "code",
   "execution_count": 3,
   "metadata": {},
   "outputs": [
    {
     "name": "stdout",
     "output_type": "stream",
     "text": [
      "[(0., datetime.datetime(2019, 12, 11, 15, 37, 59, 554738, tzinfo=datetime.timezone.utc), 2157641728)\n",
      " (0., datetime.datetime(2019, 12, 11, 15, 47, 59, 554738, tzinfo=datetime.timezone.utc), 2157641728)\n",
      " (0., datetime.datetime(2019, 12, 11, 15, 57, 59, 554738, tzinfo=datetime.timezone.utc), 2157641728)\n",
      " (0., datetime.datetime(2019, 12, 11, 16, 7, 59, 554738, tzinfo=datetime.timezone.utc), 2157641728)\n",
      " (0., datetime.datetime(2019, 12, 11, 16, 17, 59, 554738, tzinfo=datetime.timezone.utc), 2157641728)\n",
      " (0., datetime.datetime(2019, 12, 11, 16, 27, 59, 554738, tzinfo=datetime.timezone.utc), 2157641728)]\n"
     ]
    }
   ],
   "source": [
    "#basic variable name\n",
    "bvname = 'ADM_Temperature'\n",
    "\n",
    "#method to get the basic variable\n",
    "bv = connection.getDataObjects([bvname])\n",
    "\n",
    "#define query period\n",
    "end_date = datetime.datetime.now()\n",
    "ini_date= end_date - datetime.timedelta(hours=1)\n",
    "queryPeriod = epm.QueryPeriod(ini_date,end_date)\n",
    "\n",
    "#define aggregate details\n",
    "processInterval = datetime.timedelta(minutes=10)\n",
    "aggDetails = epm.AggregateDetails(processInterval, epm.AggregateType.Interpolative)\n",
    "\n",
    "#make read\n",
    "data = bv[bvname].historyReadAggregate(aggDetails, queryPeriod)\n",
    "\n",
    "#show results\n",
    "print(data)"
   ]
  },
  {
   "cell_type": "markdown",
   "metadata": {},
   "source": [
    "**Writing historical data to EPM Server**\n"
   ]
  },
  {
   "cell_type": "code",
   "execution_count": null,
   "metadata": {},
   "outputs": [],
   "source": [
    "#Basic Variable name that receives data\n",
    "bvname = 'bvname'\n",
    "\n",
    "#method to get the basic variable\n",
    "bv = connection.getDataObjects([bvname])\n",
    "\n",
    "#some values for write tests\n",
    "newvalues = [50,60,30,40,10]\n",
    "base = datetime.datetime(2018, 1, 1)\n",
    "newdates = np.array([base + datetime.timedelta(hours=i) for i in range(5)])\n",
    "\n",
    "# epm ndarray data format\n",
    "desc = np.dtype([('Value', '>f8'), ('Timestamp', 'object'), ('Quality', '>i4')])\n",
    "datatemp = np.empty(len(newvalues), dtype=desc)\n",
    "\n",
    "#loop to populate the object before send to EPM\n",
    "i=0\n",
    "while i < len(newvalues):\n",
    "    datatemp['Value'][i] = newvalues[i]\n",
    "    datatemp['Timestamp'][i] = newdates[i]\n",
    "    datatemp['Quality'][i] = 0\n",
    "    i = i+1\n",
    "#make write    \n",
    "bv[bvname].historyUpdate(datatemp)"
   ]
  },
  {
   "cell_type": "markdown",
   "metadata": {},
   "source": [
    "**Write data to EPM Server** \n",
    "\n",
    "Sends value in real-time way. "
   ]
  },
  {
   "cell_type": "code",
   "execution_count": null,
   "metadata": {},
   "outputs": [],
   "source": [
    "bvname = 'bvname'\n",
    "\n",
    "bv = connection.getDataObjects([bvname])\n",
    "\n",
    "date = datetime.datetime.now()\n",
    "value = 100\n",
    "quality = 0 #zero is Good in OPC UA\n",
    "\n",
    "bv[bvname].write(value, date, quality)\n"
   ]
  },
  {
   "cell_type": "markdown",
   "metadata": {},
   "source": [
    "**Read the real-time value of a variable**"
   ]
  },
  {
   "cell_type": "code",
   "execution_count": null,
   "metadata": {},
   "outputs": [],
   "source": [
    "bvname = 'ADM_Temperature'\n",
    "\n",
    "bv = connection.getDataObjects(bvname)\n",
    "\n",
    "data = bv[bvname].read()\n",
    "\n",
    "print(data.value)\n",
    "print(data.timestamp)"
   ]
  },
  {
   "cell_type": "markdown",
   "metadata": {},
   "source": [
    "**Variable Filter**\n",
    "\n",
    "Example of read variables that contains \"Temperature\" in the name and \"Continuous\" Type."
   ]
  },
  {
   "cell_type": "code",
   "execution_count": null,
   "metadata": {
    "scrolled": true
   },
   "outputs": [],
   "source": [
    "from epmwebapi.dataobjectattributes import DataObjectAttributes\n",
    "from epmwebapi.dataobjectsfilter import DataObjectsFilter\n",
    "from epmwebapi.dataobjectsfilter import DataObjectsFilterType\n",
    "from epmwebapi.domainfilter import DomainFilter\n",
    "\n",
    "Filter = DataObjectsFilter(DataObjectsFilterType.BasicVariable, '*Temperature', None, None, DomainFilter.Continuous)\n",
    "\n",
    "properties = DataObjectAttributes.Description | DataObjectAttributes.LowLimit | DataObjectAttributes.HighLimit | DataObjectAttributes.EU\n",
    "\n",
    "query = connection.filterDataObjects(Filter, properties)\n",
    "\n",
    "\n",
    "for item in list(query.values()):\n",
    "    \n",
    "    data = item.read()\n",
    "    print('{} >>> {}'.format(item.name,data.value))   \n"
   ]
  },
  {
   "cell_type": "markdown",
   "metadata": {},
   "source": [
    "**Browsing DataModel Structure** \n",
    "\n",
    "![ECC DataModel](./images/datamodel_elipse.png)\n"
   ]
  },
  {
   "cell_type": "code",
   "execution_count": null,
   "metadata": {
    "scrolled": true
   },
   "outputs": [],
   "source": [
    "#EPM Path that contains DataModel\n",
    "basePath = '/Models/ElipseDataModel/DataModel/Elipse'\n",
    "\n",
    "#Get address in EPM Server\n",
    "itens = connection.getObjects(basePath)\n",
    "\n",
    "#loop to find itens\n",
    "for item in list(itens.values()):    \n",
    "    \n",
    "    #List the first level\n",
    "    filiais = list(item.enumObjects().values())\n",
    "    \n",
    "    #list the second level\n",
    "    for filial in filiais:        \n",
    "        \n",
    "        #list the second level and choose the second property (index 1), called Description.\n",
    "        obj = list(filial.enumProperties().values())[1]\n",
    "        \n",
    "        # make read\n",
    "        data = obj.read()\n",
    "        #show the result\n",
    "        print(data.value)"
   ]
  },
  {
   "cell_type": "markdown",
   "metadata": {},
   "source": [
    "**writing annotations**\n",
    "\n",
    "Annotation is a text message tha can be put on the timeline of a variable. In this example we write an annotation in the Max value of the variable. "
   ]
  },
  {
   "cell_type": "code",
   "execution_count": null,
   "metadata": {},
   "outputs": [],
   "source": [
    "bvname = 'ADM_Temperature'\n",
    "\n",
    "bv = connection.getDataObjects([bvname])\n",
    "\n",
    "end_date = datetime.datetime.now()\n",
    "ini_date= end_date - datetime.timedelta(minutes=10)\n",
    "queryPeriod = epm.QueryPeriod(ini_date,end_date)\n",
    "data = bv[bvname].historyReadRaw(queryPeriod)\n",
    "\n",
    "max_value = data['Value'].max()\n",
    "\n",
    "max_index = np.argwhere(data['Value'] == max_value)\n",
    "\n",
    "print(max_index)\n",
    "\n",
    "print(data['Timestamp'][max_index][0])\n",
    "\n",
    "#escrevendo anotação\n",
    "message = 'valor maximo encontrado no periodo'\n",
    "timestamp = data['Timestamp'][max_index]\n",
    "bv[bvname].writeAnnotation(timestamp,message)"
   ]
  },
  {
   "cell_type": "markdown",
   "metadata": {},
   "source": [
    "**Querying Annotations**"
   ]
  },
  {
   "cell_type": "code",
   "execution_count": 1,
   "metadata": {},
   "outputs": [
    {
     "ename": "NameError",
     "evalue": "name 'connection' is not defined",
     "output_type": "error",
     "traceback": [
      "\u001b[1;31m---------------------------------------------------------------------------\u001b[0m",
      "\u001b[1;31mNameError\u001b[0m                                 Traceback (most recent call last)",
      "\u001b[1;32m<ipython-input-1-a61d2ce68aa6>\u001b[0m in \u001b[0;36m<module>\u001b[1;34m\u001b[0m\n\u001b[0;32m      1\u001b[0m \u001b[0mbvname\u001b[0m \u001b[1;33m=\u001b[0m \u001b[1;34m'ADM_Temperature'\u001b[0m\u001b[1;33m\u001b[0m\u001b[1;33m\u001b[0m\u001b[0m\n\u001b[0;32m      2\u001b[0m \u001b[1;33m\u001b[0m\u001b[0m\n\u001b[1;32m----> 3\u001b[1;33m \u001b[0mbv\u001b[0m \u001b[1;33m=\u001b[0m \u001b[0mconnection\u001b[0m\u001b[1;33m.\u001b[0m\u001b[0mgetDataObjects\u001b[0m\u001b[1;33m(\u001b[0m\u001b[1;33m[\u001b[0m\u001b[0mbvname\u001b[0m\u001b[1;33m]\u001b[0m\u001b[1;33m)\u001b[0m\u001b[1;33m\u001b[0m\u001b[1;33m\u001b[0m\u001b[0m\n\u001b[0m\u001b[0;32m      4\u001b[0m \u001b[1;33m\u001b[0m\u001b[0m\n\u001b[0;32m      5\u001b[0m \u001b[0mend_date\u001b[0m \u001b[1;33m=\u001b[0m \u001b[0mdatetime\u001b[0m\u001b[1;33m.\u001b[0m\u001b[0mdate\u001b[0m\u001b[1;33m(\u001b[0m\u001b[1;36m2018\u001b[0m\u001b[1;33m,\u001b[0m \u001b[1;36m10\u001b[0m\u001b[1;33m,\u001b[0m \u001b[1;36m19\u001b[0m\u001b[1;33m)\u001b[0m\u001b[1;33m\u001b[0m\u001b[1;33m\u001b[0m\u001b[0m\n",
      "\u001b[1;31mNameError\u001b[0m: name 'connection' is not defined"
     ]
    }
   ],
   "source": [
    "bvname = 'ADM_Temperature'\n",
    "\n",
    "bv = connection.getDataObjects([bvname])\n",
    "\n",
    "end_date = datetime.date(2018, 10, 19)\n",
    "ini_date = end_date - datetime.timedelta(hours=24)\n",
    "\n",
    "annotations = bv[bvname].readAnnotations(ini_date,end_date)\n",
    "print(annotations)"
   ]
  },
  {
   "cell_type": "markdown",
   "metadata": {},
   "source": [
    "**Closing Connection**\n",
    "\n",
    "We need to close connection, to release it to other possible users."
   ]
  },
  {
   "cell_type": "code",
   "execution_count": null,
   "metadata": {},
   "outputs": [],
   "source": [
    "connection.close()"
   ]
  }
 ],
 "metadata": {
  "kernelspec": {
   "display_name": "Python 3",
   "language": "python",
   "name": "python3"
  },
  "language_info": {
   "codemirror_mode": {
    "name": "ipython",
    "version": 3
   },
   "file_extension": ".py",
   "mimetype": "text/x-python",
   "name": "python",
   "nbconvert_exporter": "python",
   "pygments_lexer": "ipython3",
   "version": "3.7.5"
  }
 },
 "nbformat": 4,
 "nbformat_minor": 2
}
